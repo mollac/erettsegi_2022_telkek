{
 "cells": [
  {
   "cell_type": "code",
   "execution_count": 1,
   "id": "b1faad21-b350-49db-94f4-77798c483889",
   "metadata": {},
   "outputs": [],
   "source": [
    "savok = {}\n",
    "with open ('utca.txt', 'rt', encoding='utf-8') as f:\n",
    "    a, b, c = f.readline().strip().split(' ')\n",
    "    savok['A'] = int(a)\n",
    "    savok['B'] = int(b)\n",
    "    savok['C'] = int(c)"
   ]
  },
  {
   "cell_type": "code",
   "execution_count": 28,
   "id": "aeb20950-bb80-45a6-af1e-9d8b99789404",
   "metadata": {},
   "outputs": [
    {
     "data": {
      "text/plain": [
       "adoszam     int64\n",
       "utca       object\n",
       "hazszam    object\n",
       "sav        object\n",
       "terulet     int64\n",
       "dtype: object"
      ]
     },
     "execution_count": 28,
     "metadata": {},
     "output_type": "execute_result"
    }
   ],
   "source": [
    "import pandas as pd\n",
    "import numpy as np\n",
    "cols = ['adoszam', 'utca', 'hazszam', 'sav', 'terulet']\n",
    "df = pd.read_csv('utca.txt', delimiter = ' ', skiprows = 1, names = cols, index_col = False)\n",
    "df.dtypes"
   ]
  },
  {
   "cell_type": "code",
   "execution_count": 3,
   "id": "377a9f57-5027-40c4-8fa5-303b3b24a770",
   "metadata": {},
   "outputs": [
    {
     "name": "stdout",
     "output_type": "stream",
     "text": [
      "A mintában 543 telek szerepel.\n"
     ]
    }
   ],
   "source": [
    "print(f\"A mintában {df.shape[0]} telek szerepel.\")"
   ]
  },
  {
   "cell_type": "code",
   "execution_count": 4,
   "id": "54a0f581-3841-4b3b-b68d-ad86e92b44f6",
   "metadata": {},
   "outputs": [
    {
     "data": {
      "text/plain": [
       "142400"
      ]
     },
     "execution_count": 4,
     "metadata": {},
     "output_type": "execute_result"
    }
   ],
   "source": [
    "def ado(sav, terulet, savok):\n",
    "    osszeg = savok[sav] * terulet\n",
    "    return 0 if osszeg < 10000 else osszeg\n",
    "\n",
    "ado('A', 178, savok)"
   ]
  },
  {
   "cell_type": "code",
   "execution_count": 26,
   "id": "5ff285ee-2030-4099-a2b1-277dabecb20d",
   "metadata": {},
   "outputs": [
    {
     "name": "stdout",
     "output_type": "stream",
     "text": [
      "     adoszam      utca hazszam sav  terulet     ado\n",
      "542    12345  Zsomboly      20   A      134  107200\n"
     ]
    }
   ],
   "source": [
    "a_szam = int(input(\"3. feladat. Egy tulajdonos adószáma:\"))\n",
    "filt = (df.adoszam == a_szam)\n",
    "if df[filt].shape[0] > 0:\n",
    "    print(df[filt])\n",
    "else:\n",
    "    print(f'Nincs {a_szam} adószám az adatbázisban')"
   ]
  },
  {
   "cell_type": "code",
   "execution_count": 27,
   "id": "0ab067d1-7b96-4212-a676-a1197a0f1bce",
   "metadata": {},
   "outputs": [
    {
     "data": {
      "text/html": [
       "<div>\n",
       "<style scoped>\n",
       "    .dataframe tbody tr th:only-of-type {\n",
       "        vertical-align: middle;\n",
       "    }\n",
       "\n",
       "    .dataframe tbody tr th {\n",
       "        vertical-align: top;\n",
       "    }\n",
       "\n",
       "    .dataframe thead th {\n",
       "        text-align: right;\n",
       "    }\n",
       "</style>\n",
       "<table border=\"1\" class=\"dataframe\">\n",
       "  <thead>\n",
       "    <tr style=\"text-align: right;\">\n",
       "      <th></th>\n",
       "      <th>Telkek száma</th>\n",
       "      <th>Fizetendő adó</th>\n",
       "    </tr>\n",
       "    <tr>\n",
       "      <th>sav</th>\n",
       "      <th></th>\n",
       "      <th></th>\n",
       "    </tr>\n",
       "  </thead>\n",
       "  <tbody>\n",
       "    <tr>\n",
       "      <th>A</th>\n",
       "      <td>165</td>\n",
       "      <td>20805600</td>\n",
       "    </tr>\n",
       "    <tr>\n",
       "      <th>B</th>\n",
       "      <td>144</td>\n",
       "      <td>13107000</td>\n",
       "    </tr>\n",
       "    <tr>\n",
       "      <th>C</th>\n",
       "      <td>234</td>\n",
       "      <td>3479600</td>\n",
       "    </tr>\n",
       "  </tbody>\n",
       "</table>\n",
       "</div>"
      ],
      "text/plain": [
       "     Telkek száma  Fizetendő adó\n",
       "sav                             \n",
       "A             165       20805600\n",
       "B             144       13107000\n",
       "C             234        3479600"
      ]
     },
     "execution_count": 27,
     "metadata": {},
     "output_type": "execute_result"
    }
   ],
   "source": [
    "df['ado'] = df.apply(lambda x: ado(x.sav, x.terulet, savok), axis=1)\n",
    "df2 = df.groupby('sav')['ado'].agg(['count', 'sum'])\n",
    "df2.rename(columns={'count':'Telkek száma','sum':'Fizetendő adó'}, inplace = True)\n",
    "df2"
   ]
  },
  {
   "cell_type": "code",
   "execution_count": 30,
   "id": "5a2af3c3-9172-43ec-82da-4737b8f9d51d",
   "metadata": {},
   "outputs": [
    {
     "name": "stdout",
     "output_type": "stream",
     "text": [
      "Besztercei\n",
      "Rezeda\n",
      "Gyurgyalag\n",
      "Szepesi\n",
      "Icce\n",
      "Kurta\n"
     ]
    }
   ],
   "source": [
    "a = set(df[df.sav=='A']['utca'])\n",
    "b = set(df[df.sav=='B']['utca'])\n",
    "c = set(df[df.sav=='C']['utca'])\n",
    "\n",
    "ab = a.intersection(b)\n",
    "ac = a.intersection(c)\n",
    "bc = b.intersection(c)\n",
    "\n",
    "ab |= ac\n",
    "ab |= bc\n",
    "\n",
    "for utca in ab:\n",
    "    print(utca)"
   ]
  },
  {
   "cell_type": "code",
   "execution_count": 8,
   "id": "d046b127-b223-4c78-ab66-737ca120010a",
   "metadata": {},
   "outputs": [
    {
     "data": {
      "text/plain": [
       "adoszam\n",
       "10388     22000\n",
       "10495     72000\n",
       "10507    126000\n",
       "10843     11600\n",
       "10934     14400\n",
       "          ...  \n",
       "98489     84000\n",
       "98769     72000\n",
       "98791    113400\n",
       "99795         0\n",
       "99986    151800\n",
       "Name: ado, Length: 519, dtype: int64"
      ]
     },
     "execution_count": 8,
     "metadata": {},
     "output_type": "execute_result"
    }
   ],
   "source": [
    "df2 = df.groupby('adoszam').sum()['ado']\n",
    "df2.to_csv('fizetendo.css', sep=' ', header=False)\n",
    "df2"
   ]
  },
  {
   "cell_type": "code",
   "execution_count": null,
   "id": "d3f3468c-69f6-44d6-9eab-053e9b9c782f",
   "metadata": {},
   "outputs": [],
   "source": []
  }
 ],
 "metadata": {
  "interpreter": {
   "hash": "1d15cb5dd0fc132dd7e704f6d36394352aa7e42a0dad71e60dee4842e372170e"
  },
  "kernelspec": {
   "display_name": "Python 3.10.4 64-bit",
   "language": "python",
   "name": "python3"
  },
  "language_info": {
   "codemirror_mode": {
    "name": "ipython",
    "version": 3
   },
   "file_extension": ".py",
   "mimetype": "text/x-python",
   "name": "python",
   "nbconvert_exporter": "python",
   "pygments_lexer": "ipython3",
   "version": "3.10.4"
  }
 },
 "nbformat": 4,
 "nbformat_minor": 5
}
